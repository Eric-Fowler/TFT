{
 "cells": [
  {
   "cell_type": "code",
   "execution_count": 905,
   "metadata": {},
   "outputs": [],
   "source": [
    "import numpy as np\n",
    "from IPython.display import display, clear_output\n",
    "from ipywidgets import widgets"
   ]
  },
  {
   "cell_type": "code",
   "execution_count": 906,
   "metadata": {},
   "outputs": [
    {
     "data": {
      "application/vnd.jupyter.widget-view+json": {
       "model_id": "2a5469444c0c49a29ffb57573a6cebc6",
       "version_major": 2,
       "version_minor": 0
      },
      "text/plain": [
       "Text(value='')"
      ]
     },
     "metadata": {},
     "output_type": "display_data"
    },
    {
     "data": {
      "application/vnd.jupyter.widget-view+json": {
       "model_id": "75de2c3a76c942c69a1347322f24e782",
       "version_major": 2,
       "version_minor": 0
      },
      "text/plain": [
       "Output()"
      ]
     },
     "metadata": {},
     "output_type": "display_data"
    }
   ],
   "source": [
    "from ipywidgets import widgets\n",
    "from IPython.display import display, clear_output\n",
    "\n",
    "text = widgets.Text()\n",
    "display(text)\n",
    "output = widgets.Output()\n",
    "display(output)\n",
    "\n",
    "def handle_submit(sender):\n",
    "    with output:\n",
    "        clear_output()\n",
    "        print('\\n'.join([text.value] * 40 ))   \n",
    "\n",
    "text.on_submit(handle_submit)"
   ]
  },
  {
   "cell_type": "code",
   "execution_count": 907,
   "metadata": {},
   "outputs": [
    {
     "name": "stdout",
     "output_type": "stream",
     "text": [
      "[[0 0 0 0 0 0 0]\n",
      " [0 0 0 0 0 0 0]\n",
      " [0 0 0 0 0 0 0]\n",
      " [0 0 0 0 0 0 0]\n",
      " [0 0 0 0 0 0 0]\n",
      " [0 0 0 0 0 0 0]]\n"
     ]
    },
    {
     "data": {
      "text/plain": [
       "'\\n0 = empty\\n1 = red\\n2 = blue\\n'"
      ]
     },
     "execution_count": 907,
     "metadata": {},
     "output_type": "execute_result"
    }
   ],
   "source": [
    "nrows = 6\n",
    "ncols = 7\n",
    "board = np.zeros((nrows,ncols),np.int64)\n",
    "#board  = np.random.randint(1,30,(nrows,ncols))\n",
    "print(board)\n",
    "\n",
    "\"\"\"\n",
    "0 = empty\n",
    "1 = red\n",
    "2 = blue\n",
    "\"\"\""
   ]
  },
  {
   "cell_type": "code",
   "execution_count": 908,
   "metadata": {},
   "outputs": [],
   "source": [
    "def c4w(player, board): #check for win condition\n",
    "    for row in range(nrows):\n",
    "        for col in range(ncols):\n",
    "            #check horizontal\n",
    "            if col <= 3:\n",
    "                rh = np.array(board[row,col:(col+4)])\n",
    "                if (rh == player).all():\n",
    "                    print(\"Player \"+str(player)+\" has won horizontally\")\n",
    "                    print(str(row)+\",\"+str(col))\n",
    "                    over=1\n",
    "                    return over\n",
    "            # #check left horizontal\n",
    "            # if col >= 4:\n",
    "            #     lh = np.array(board[row,(col-4):col])\n",
    "            #     print(\"lh: \"+str(lh))\n",
    "            #     if (lh == player).all():\n",
    "            #         board[row,col] = 69\n",
    "            #         print(\"Player \"+str(player)+\" has won lh\")\n",
    "            #         over=1\n",
    "            #         return over,row,col\n",
    "            #check up vertical\n",
    "            if row >=3:\n",
    "                uv = np.array(board[(row-3):row+1,col])\n",
    "                if (uv == player).all():\n",
    "                    print(uv)\n",
    "                    print(\"Player \"+str(player)+\" has won vertically\")\n",
    "                    over=1\n",
    "                    return over\n",
    "            # #check down vertical\n",
    "            # if row <=3:\n",
    "            #     dv = np.array(board[row:(row+4),col])\n",
    "            #     if (dv == player).all():\n",
    "            #         print(\"Player \"+str(player)+\" has won dv\")\n",
    "            #         over=1\n",
    "            #         return over,row,col\n",
    "            #check up-right diagonal\n",
    "            if col <=3 and row >=3:\n",
    "                urd = np.array([board[row,col],board[row-1,col+1],board[row-2,col+2],board[row-3,col+3]])\n",
    "                if (urd==player).all():\n",
    "                    print(\"Player \"+str(player)+\" has won up-right diagonally\")\n",
    "                    over=1\n",
    "                    return over\n",
    "            #check up-left diagonal\n",
    "            if col >=3 and row >=3:\n",
    "                uld = np.array([board[row,col],board[row-1,col-1],board[row-2,col-2],board[row-3,col-3]])\n",
    "                if (uld==player).all():\n",
    "                    print(\"Player \"+str(player)+\" has won up-left diagonally\")\n",
    "                    over=1\n",
    "                    return over\n",
    "            # #check down-left diagonal\n",
    "            # if col >=3 and row <=2:\n",
    "            #     dld = np.array([board[row,col],board[row+1,col-1],board[row+2,col-2],board[row+3,col-3]])\n",
    "            #     if (dld==player).all():\n",
    "            #         print(\"Player \"+str(player)+\" has won dld\")\n",
    "            #         over=1\n",
    "            #         return over,row,col\n",
    "            # #check down-right diagonal\n",
    "            # if col <=3 and row <=2:\n",
    "            #     drd = np.array([board[row,col],board[row+1,col+1],board[row+2,col+2],board[row+3,col+3]])\n",
    "            #     if (drd==player).all():\n",
    "            #         print(\"Player \"+str(player)+\" has won drd\")\n",
    "            #         over=1\n",
    "            #         return over,row,col"
   ]
  },
  {
   "cell_type": "code",
   "execution_count": 909,
   "metadata": {},
   "outputs": [
    {
     "data": {
      "text/plain": [
       "(array([0, 0, 0, 0, 0, 0, 0, 1, 1, 1, 1, 1, 1, 1, 2, 2, 2, 2, 2, 2, 2, 3,\n",
       "        3, 3, 3, 3, 3, 3, 4, 4, 4, 4, 4, 4, 4, 5, 5, 5, 5, 5, 5, 5],\n",
       "       dtype=int64),\n",
       " array([0, 1, 2, 3, 4, 5, 6, 0, 1, 2, 3, 4, 5, 6, 0, 1, 2, 3, 4, 5, 6, 0,\n",
       "        1, 2, 3, 4, 5, 6, 0, 1, 2, 3, 4, 5, 6, 0, 1, 2, 3, 4, 5, 6],\n",
       "       dtype=int64))"
      ]
     },
     "execution_count": 909,
     "metadata": {},
     "output_type": "execute_result"
    }
   ],
   "source": [
    "np.where(board[:,:]==0)"
   ]
  },
  {
   "cell_type": "code",
   "execution_count": 910,
   "metadata": {},
   "outputs": [],
   "source": [
    "def place(player,board,column,over):\n",
    "    clear_output#(wait=True)\n",
    "    over = 0 #this should be the natural game state\n",
    "    remain = np.where(board[:,column] == 0)\n",
    "    print(remain[-1])\n",
    "    if len(remain[-1]) >0:\n",
    "        board[remain[-1][-1],column] = player\n",
    "    else:\n",
    "        print(\"Try another column\") #this indicates that the player needs to try again\n",
    "    over = c4w(player, board)\n",
    "    if over ==1: #this means the game is over\n",
    "        print(\"Winning spot: \"+str((nrows-remain[-1][-1],column))) #these are counting from bottom left. (row starts at 0, column starts at 0)\n",
    "        return board,over\n",
    "    if np.size(np.where(board[:,:]==0))==0:\n",
    "        print(\"Draw\")\n",
    "    return board,over\n",
    "over = 0"
   ]
  },
  {
   "cell_type": "code",
   "execution_count": 915,
   "metadata": {},
   "outputs": [
    {
     "name": "stdout",
     "output_type": "stream",
     "text": [
      "[0 1 2]\n",
      "[1 1 1 1]\n",
      "Player 1 has won uv\n",
      "Winning spot: (4, 0)\n",
      "[[0 0 0 0 0 0 0]\n",
      " [0 0 0 0 0 0 0]\n",
      " [1 0 0 0 0 0 0]\n",
      " [1 0 0 0 0 0 0]\n",
      " [1 0 0 0 0 0 0]\n",
      " [1 0 0 0 0 0 0]]\n"
     ]
    }
   ],
   "source": [
    "try:\n",
    "    board,over = place(player = 1,board=board,column = 0,over=over)\n",
    "    print(board)\n",
    "    newboard = board\n",
    "except:\n",
    "    print(newboard)\n",
    "    print(\"Over\")\n"
   ]
  },
  {
   "cell_type": "code",
   "execution_count": 912,
   "metadata": {},
   "outputs": [],
   "source": [
    "#\"\"\"Up right diagonal\"\"\"\n",
    "# for ii in range(3):\n",
    "#     newboard = place(player = 1,board=board,column = 6)\n",
    "# board = place(player = 2,board=board,column = 6)\n",
    "# for ii in range(2):\n",
    "#     newboard = place(player = 1,board=board,column = 5)\n",
    "# board = place(player = 2,board=board,column = 5)\n",
    "# board = place(player = 1,board=board,column = 4)\n",
    "# board = place(player = 2,board=board,column = 4)\n",
    "# board = place(player = 2,board=board,column = 3)\n",
    "\n",
    "#\"\"\"Up left diagonal\"\"\"\n",
    "# for ii in range(3):\n",
    "#     newboard = place(player = 1,board=board,column = 0)\n",
    "# board = place(player = 2,board=board,column = 0)\n",
    "# for ii in range(2):\n",
    "#     newboard = place(player = 1,board=board,column = 1)\n",
    "# board = place(player = 2,board=board,column = 1)\n",
    "# board = place(player = 1,board=board,column = 2)\n",
    "# board = place(player = 2,board=board,column = 2)\n",
    "# board = place(player = 2,board=board,column = 3)"
   ]
  }
 ],
 "metadata": {
  "interpreter": {
   "hash": "34916cad638d86d542cfcc12676861d52223c1e078c9c7e4c077574de57fb9cd"
  },
  "kernelspec": {
   "display_name": "Python 3.9.7 64-bit ('TFT': conda)",
   "language": "python",
   "name": "python3"
  },
  "language_info": {
   "codemirror_mode": {
    "name": "ipython",
    "version": 3
   },
   "file_extension": ".py",
   "mimetype": "text/x-python",
   "name": "python",
   "nbconvert_exporter": "python",
   "pygments_lexer": "ipython3",
   "version": "3.9.7"
  },
  "orig_nbformat": 4
 },
 "nbformat": 4,
 "nbformat_minor": 2
}
