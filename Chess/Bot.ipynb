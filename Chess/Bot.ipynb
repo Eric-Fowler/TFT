{
 "cells": [
  {
   "cell_type": "code",
   "execution_count": 93,
   "metadata": {},
   "outputs": [],
   "source": [
    "import numpy as np\n",
    "import time\n",
    "import threading\n",
    "import webbrowser\n",
    "import pynput\n",
    "from pynput.mouse import Button, Controller\n",
    "import selenium\n",
    "from selenium import webdriver\n",
    "from selenium.webdriver.common.keys import Keys\n",
    "import pandas as pd\n",
    "import os\n",
    "from selenium.webdriver.common.by import By\n",
    "from selenium.webdriver.support.ui import WebDriverWait\n",
    "from selenium.webdriver.support import expected_conditions as EC \n",
    "from selenium.webdriver.chrome.options import Options"
   ]
  },
  {
   "cell_type": "code",
   "execution_count": 94,
   "metadata": {},
   "outputs": [],
   "source": [
    "PATH = \"D:\\Programming\\Web Drivers\\chromedriver.exe\""
   ]
  },
  {
   "cell_type": "code",
   "execution_count": 95,
   "metadata": {},
   "outputs": [],
   "source": [
    "chrome_options = webdriver.ChromeOptions()\n",
    "prefs = {\"profile.default_content_setting_values.notifications\" : 1}\n",
    "chrome_options.add_experimental_option(\"prefs\",prefs)"
   ]
  },
  {
   "cell_type": "code",
   "execution_count": 96,
   "metadata": {},
   "outputs": [],
   "source": [
    "driver1 = webdriver.Chrome(PATH,options=chrome_options)\n",
    "driver1.implicitly_wait(5)\n",
    "driver1.get(\"https://www.chess.com/login\")\n",
    "time.sleep(3)\n",
    "user1 = 'Bro1a'\n",
    "pass1 = 'qwer123!@#$123asdf'\n",
    "def login(driver,user,password):\n",
    "\n",
    "    driver.find_element_by_id(\"username\").send_keys(user)\n",
    "    driver.find_element_by_id(\"password\").send_keys(password)\n",
    "    driver.find_element_by_id(\"login\").click()\n",
    "    time.sleep(5)\n",
    "login(driver1,user1,pass1)\n",
    "try:\n",
    "    driver1.find_element_by_xpath('//button[normalize-space()=\"Not Today\"]').click()\n",
    "except:\n",
    "    time.sleep(0)\n",
    "time.sleep(1)"
   ]
  },
  {
   "cell_type": "code",
   "execution_count": 98,
   "metadata": {},
   "outputs": [],
   "source": [
    "driver1.get(\"https://www.chess.com/play/online\")\n",
    "time.sleep(1)\n",
    "playafriend = '//*[@id=\"board-layout-sidebar\"]/div/div[2]/div/div/div[1]/div[2]/div/button[2]'\n",
    "#driver.find_element_by_xpath(playafriend).click()\n",
    "WebDriverWait(driver1,10).until(EC.element_to_be_clickable((By.XPATH, \"/html/body/div[3]/div/div[2]/div/div/div[1]/div[2]/div/button[2]\"))).click()\n",
    "WebDriverWait(driver1,10).until(EC.element_to_be_clickable((By.XPATH, \"/html/body/div[3]/div/div[2]/div/div/div/div/div[2]/div[2]/button[1]\"))).click()"
   ]
  }
 ],
 "metadata": {
  "interpreter": {
   "hash": "be98153d661a2875a9f43497e40bdd13c878fe1aa00bb0a9b0e26009e5741a45"
  },
  "kernelspec": {
   "display_name": "Python 3.9.7 64-bit ('TFT': conda)",
   "language": "python",
   "name": "python3"
  },
  "language_info": {
   "codemirror_mode": {
    "name": "ipython",
    "version": 3
   },
   "file_extension": ".py",
   "mimetype": "text/x-python",
   "name": "python",
   "nbconvert_exporter": "python",
   "pygments_lexer": "ipython3",
   "version": "3.9.7"
  },
  "orig_nbformat": 4
 },
 "nbformat": 4,
 "nbformat_minor": 2
}
